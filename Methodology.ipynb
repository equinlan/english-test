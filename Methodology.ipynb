{
 "cells": [
  {
   "cell_type": "markdown",
   "metadata": {},
   "source": [
    "# Methodology"
   ]
  },
  {
   "cell_type": "code",
   "execution_count": 33,
   "metadata": {},
   "outputs": [],
   "source": [
    "import matplotlib.pyplot as plt\n",
    "import numpy as np\n",
    "import pandas as pd\n",
    "from joblib import dump, load\n",
    "from surprise.dataset import Dataset\n",
    "from surprise.prediction_algorithms.matrix_factorization import SVD\n",
    "from surprise.reader import Reader\n",
    "\n",
    "random_state = 14 # My wife's favorite number!"
   ]
  },
  {
   "cell_type": "markdown",
   "metadata": {},
   "source": [
    "## Data preprocessing"
   ]
  },
  {
   "cell_type": "markdown",
   "metadata": {},
   "source": [
    "### Cull first encounters\n",
    "Let's begin by pulling in our first encounters data."
   ]
  },
  {
   "cell_type": "code",
   "execution_count": 2,
   "metadata": {},
   "outputs": [
    {
     "name": "stderr",
     "output_type": "stream",
     "text": [
      "C:\\Users\\emq\\anaconda3\\envs\\wie\\lib\\site-packages\\numpy\\lib\\arraysetops.py:569: FutureWarning: elementwise comparison failed; returning scalar instead, but in the future will perform elementwise comparison\n",
      "  mask |= (ar1 == a)\n"
     ]
    }
   ],
   "source": [
    "# Read in the first encounters data\n",
    "df_fe = pd.read_csv('data/first_encounters.csv', encoding='utf-8', index_col='ordinal')"
   ]
  },
  {
   "cell_type": "markdown",
   "metadata": {},
   "source": [
    "Our first step will be to cull the data, so that we're left only with users and items that have a significant amount of interactions."
   ]
  },
  {
   "cell_type": "code",
   "execution_count": 4,
   "metadata": {},
   "outputs": [
    {
     "data": {
      "text/plain": [
       "count    85802.000000\n",
       "mean        97.347078\n",
       "std        522.900077\n",
       "min          1.000000\n",
       "25%         14.000000\n",
       "50%         24.000000\n",
       "75%         54.000000\n",
       "max      17944.000000\n",
       "Name: correct_response, dtype: float64"
      ]
     },
     "execution_count": 4,
     "metadata": {},
     "output_type": "execute_result"
    }
   ],
   "source": [
    "# Get user encounter counts\n",
    "user_encounter_counts = df_fe.groupby('user_id')['correct_response'].count()\n",
    "user_encounter_counts.describe()"
   ]
  },
  {
   "cell_type": "markdown",
   "metadata": {},
   "source": [
    "The 25th percentile encountered 14 items or fewer; the 50th percentile encountered 24 items or fewer. A game of _Which Is English?_ is usually about 14 items, so those folks beneath the 25th percentile only played one game. Ideally, we want users who played more than that, and also, we'd like to limit our data to a manageable size. Let's put our threshold, then, at the 50th percentile."
   ]
  },
  {
   "cell_type": "code",
   "execution_count": 17,
   "metadata": {},
   "outputs": [],
   "source": [
    "# Cull significant users\n",
    "user_sig = user_encounter_counts[user_encounter_counts > user_encounter_counts.quantile(0.5)]"
   ]
  },
  {
   "cell_type": "markdown",
   "metadata": {},
   "source": [
    "Now let's select only items that have a history with our \"significant\" users."
   ]
  },
  {
   "cell_type": "code",
   "execution_count": 18,
   "metadata": {},
   "outputs": [
    {
     "data": {
      "text/plain": [
       "count    18081.000000\n",
       "mean       432.402854\n",
       "std        250.696392\n",
       "min          1.000000\n",
       "25%        256.000000\n",
       "50%        348.000000\n",
       "75%        612.000000\n",
       "max       1562.000000\n",
       "Name: correct_response, dtype: float64"
      ]
     },
     "execution_count": 18,
     "metadata": {},
     "output_type": "execute_result"
    }
   ],
   "source": [
    "# Cull items that interacted with significant users\n",
    "item_encounter_counts = df_fe[df_fe['user_id'].isin(user_sig.index)].groupby('item_id')['correct_response'].count()\n",
    "item_encounter_counts.describe()"
   ]
  },
  {
   "cell_type": "markdown",
   "metadata": {},
   "source": [
    "The 25th percentile has plenty of interactions, so we'll use that as our threshold."
   ]
  },
  {
   "cell_type": "code",
   "execution_count": 19,
   "metadata": {},
   "outputs": [
    {
     "name": "stdout",
     "output_type": "stream",
     "text": [
      "users: 42200 items: 13517\n"
     ]
    }
   ],
   "source": [
    "# Cull significant items\n",
    "item_sig = item_encounter_counts[item_encounter_counts > item_encounter_counts.quantile(0.25)]\n",
    "\n",
    "# How many users and items are we left with?\n",
    "print(f'users: {user_sig.shape[0]}', f'items: {item_sig.shape[0]}')"
   ]
  },
  {
   "cell_type": "markdown",
   "metadata": {},
   "source": [
    "### Fill in sparse data\n",
    "#### Perform SVD\n",
    "We already know that our data is sparse; not every user has interacted with every item. If we're planning to use machine learning to make predictions, we're going to have to fill in our matrix. [Funk SVD](https://surprise.readthedocs.io/en/stable/matrix_factorization.html#surprise.prediction_algorithms.matrix_factorization.SVD) has the amazing ability to fill sparse user-item interaction data like ours with predictions, so let's try it out!\n",
    "\n",
    "**Although Funk SVD is normally used to predict user ratings on items, I'm choosing to view correct and incorrect answers as \"ratings\" of items. Theoretically, predictions should reflect a user's likelihood to get an item correct. This is the \"big trick\" I've come up with to avoid using more traditional [computerized adaptive testing](https://en.wikipedia.org/wiki/Computerized_adaptive_testing) techniques (which would be the fallback approach if this one doesn't work).**\n",
    "\n",
    "We're using [Surprise](http://surpriselib.com/) for this, so first we need to create a trainset from our first encounters, fit the SVD algorithm with the trainset, then reconstruct the matrix from the resulting factorizations.\n",
    "\n",
    "_NOTE: For operations that create large artifacts, I try to load cached versions before recreating them from scratch._"
   ]
  },
  {
   "cell_type": "code",
   "execution_count": 21,
   "metadata": {},
   "outputs": [],
   "source": [
    "# Make trainset\n",
    "cached_trainset_path = 'cached/trainset.joblib'\n",
    "try:\n",
    "    # Load trainset\n",
    "    trainset = load(cached_trainset_path)\n",
    "except:\n",
    "    # Build data reader with binary \"rating scale\" representing wrong and right answers\n",
    "    reader = Reader(rating_scale=(0, 1))\n",
    "    \n",
    "    # Build trainset\n",
    "    trainset = Dataset.load_from_df(df_sig_encounters, reader).build_full_trainset()\n",
    "    \n",
    "    # Save trainset\n",
    "    dump(trainset, cached_trainset_path)"
   ]
  },
  {
   "cell_type": "code",
   "execution_count": 25,
   "metadata": {},
   "outputs": [],
   "source": [
    "# Perform SVD\n",
    "cached_svd_path = 'cached/svd.joblib'\n",
    "try:\n",
    "    # Load trained SVD object\n",
    "    svd = load(cached_svd_path)\n",
    "except:\n",
    "    # Train SVD algorithm with the default 100 factors and 20 epochs\n",
    "    svd = SVD(random_state=random_state).fit(trainset)\n",
    "    \n",
    "    # Save trained SVD object\n",
    "    dump(svd, cached_svd_path)"
   ]
  },
  {
   "cell_type": "markdown",
   "metadata": {},
   "source": [
    "#### Normalize the item biases\n",
    "In the [Exploration](Exploration.ipynb#testings_testitem) notebook, I noted that the `est_rating` field of the `testings_testitem` SQL table was populated with ratings that indicated relative (not absolute) item difficulty that could not always be trusted. An exciting byproduct of SVD is the bias it generates for every item (and user), effectively providing us with a mathematically justifiable, absolute alternative! **We can interpret an item's bias as the \"easiness\" of that item, as a higher bias means a given user is more likely to answer it correctly.**\n",
    "\n",
    "So now it's time for another sanity check: the item biases should theoretically correlate with the estimated ratings."
   ]
  },
  {
   "cell_type": "code",
   "execution_count": 35,
   "metadata": {},
   "outputs": [
    {
     "name": "stdout",
     "output_type": "stream",
     "text": [
      "correlation: 0.9681455049433862\n"
     ]
    },
    {
     "data": {
      "text/plain": [
       "<matplotlib.collections.PathCollection at 0x1c7a1e92708>"
      ]
     },
     "execution_count": 35,
     "metadata": {},
     "output_type": "execute_result"
    },
    {
     "data": {
      "image/png": "[encoded data removed]",
      "text/plain": [
       "<Figure size 432x288 with 1 Axes>"
      ]
     },
     "metadata": {
      "needs_background": "light"
     },
     "output_type": "display_data"
    }
   ],
   "source": [
    "# Get axis labels for the trainset\n",
    "user_ids = [trainset.to_raw_uid(user) for user in trainset.all_users()]\n",
    "item_ids = [trainset.to_raw_iid(item) for item in trainset.all_items()]\n",
    "\n",
    "# Associate item ids with item biases\n",
    "item_biases = pd.Series(svd.bi, index=item_ids, name='item_bias')\n",
    "\n",
    "# Get estimated ratings\n",
    "df_est_ratings = pd.read_csv('data/testitem_active_est_rating.csv', encoding='utf-8', index_col='id')\n",
    "\n",
    "# Do inverted item biases correlate positively with estimated ratings?\n",
    "df_biases_ratings = df_est_ratings.merge(item_biases, left_index=True, right_index=True)\n",
    "x_rating = df_biases_ratings['est_rating']\n",
    "y_bias = -df_biases_ratings['item_bias']\n",
    "print(f'correlation: {np.corrcoef(x_rating, y_bias)[0, 1]}')\n",
    "plt.scatter(x_rating, y_bias)"
   ]
  },
  {
   "cell_type": "markdown",
   "metadata": {},
   "source": [
    "Hey! Not bad! To me, this is strong evidence in favor of the conjecture that item biases generated from SVD can be used as a measure of item difficulty. With that shown, let's reconstruct the data and get our answer predictions!"
   ]
  },
  {
   "cell_type": "markdown",
   "metadata": {},
   "source": [
    "#### Reconstruct the data\n",
    "This was tricky for me! The formula for reconstructing a prediction is $\\hat{r}_{ui} = \\mu + b_u + b_i + q_i^Tp_u$, where:\n",
    "\n",
    "- $\\mu$ is the global mean\n",
    "- $b_u$ is the user bias\n",
    "- $b_i$ is the item bias\n",
    "- $q_i^T$ is the factored item matrix, transposed\n",
    "- $p_u$ is the factored user matrix\n",
    "\n",
    "At first, I reconstructed the data without adding the global mean. That threw everything off, and I despaired until I realized my mistake!\n",
    "\n",
    "Anyway, let's construct it the right way now."
   ]
  }
 ],
 "metadata": {
  "kernelspec": {
   "display_name": "wie",
   "language": "python",
   "name": "wie"
  },
  "language_info": {
   "codemirror_mode": {
    "name": "ipython",
    "version": 3
   },
   "file_extension": ".py",
   "mimetype": "text/x-python",
   "name": "python",
   "nbconvert_exporter": "python",
   "pygments_lexer": "ipython3",
   "version": "3.7.7"
  }
 },
 "nbformat": 4,
 "nbformat_minor": 4
}
