{
 "cells": [
  {
   "cell_type": "markdown",
   "metadata": {},
   "source": [
    "# Methodology\n",
    "**Objective:** Train a machine learning model that can tell us which _Which Is English?_ items to present to a test-taker and in what order so that we can determine their English proficiency score."
   ]
  },
  {
   "cell_type": "code",
   "execution_count": 1,
   "metadata": {},
   "outputs": [],
   "source": [
    "# Import modules\n",
    "import matplotlib.pyplot as plt\n",
    "import numpy as np\n",
    "import os\n",
    "import pandas as pd\n",
    "from joblib import dump, load\n",
    "from scipy.stats import linregress\n",
    "from sklearn.metrics import max_error, mean_squared_error\n",
    "from sklearn.model_selection import GridSearchCV, train_test_split\n",
    "from sklearn.tree import DecisionTreeRegressor\n",
    "from surprise.dataset import Dataset\n",
    "from surprise.prediction_algorithms.matrix_factorization import SVD\n",
    "from surprise.reader import Reader\n",
    "\n",
    "# Set random state\n",
    "random_state = 14 # My wife's favorite number!\n",
    "\n",
    "# Create cache folder for large, generated files\n",
    "if not os.path.exists('cached'):\n",
    "    os.makedirs('cached')"
   ]
  },
  {
   "cell_type": "markdown",
   "metadata": {},
   "source": [
    "## Data preprocessing"
   ]
  },
  {
   "cell_type": "markdown",
   "metadata": {},
   "source": [
    "### Cull first encounters\n",
    "Let's begin by pulling in our first encounters data."
   ]
  },
  {
   "cell_type": "code",
   "execution_count": 2,
   "metadata": {},
   "outputs": [
    {
     "name": "stderr",
     "output_type": "stream",
     "text": [
      "C:\\Users\\emq\\anaconda3\\envs\\wie\\lib\\site-packages\\numpy\\lib\\arraysetops.py:569: FutureWarning: elementwise comparison failed; returning scalar instead, but in the future will perform elementwise comparison\n",
      "  mask |= (ar1 == a)\n"
     ]
    }
   ],
   "source": [
    "# Read in the first encounters data\n",
    "df_fe = pd.read_csv('data/first_encounters.csv', encoding='utf-8', index_col='ordinal')"
   ]
  },
  {
   "cell_type": "markdown",
   "metadata": {},
   "source": [
    "Our first step will be to cull the data, so that we're left only with users and items that have a significant amount of interactions."
   ]
  },
  {
   "cell_type": "code",
   "execution_count": 3,
   "metadata": {},
   "outputs": [
    {
     "data": {
      "text/plain": [
       "count    85802.000000\n",
       "mean        97.347078\n",
       "std        522.900077\n",
       "min          1.000000\n",
       "25%         14.000000\n",
       "50%         24.000000\n",
       "75%         54.000000\n",
       "max      17944.000000\n",
       "Name: correct_response, dtype: float64"
      ]
     },
     "execution_count": 3,
     "metadata": {},
     "output_type": "execute_result"
    }
   ],
   "source": [
    "# Get user encounter counts\n",
    "user_encounter_counts = df_fe.groupby('user_id')['correct_response'].count()\n",
    "user_encounter_counts.describe()"
   ]
  },
  {
   "cell_type": "markdown",
   "metadata": {},
   "source": [
    "The 25th percentile encountered 14 items or fewer; the 50th percentile encountered 24 items or fewer. A game of _Which Is English?_ is usually about 14 items, so those folks beneath the 25th percentile only played one game. Ideally, we want users who played more than that, and also, we'd like to limit our data to a manageable size. Let's put our threshold, then, at the 50th percentile."
   ]
  },
  {
   "cell_type": "code",
   "execution_count": 4,
   "metadata": {},
   "outputs": [],
   "source": [
    "# Cull significant users\n",
    "user_sig = user_encounter_counts[user_encounter_counts > user_encounter_counts.quantile(0.5)]"
   ]
  },
  {
   "cell_type": "markdown",
   "metadata": {},
   "source": [
    "Now let's select only items that have a history with our \"significant\" users."
   ]
  },
  {
   "cell_type": "code",
   "execution_count": 5,
   "metadata": {},
   "outputs": [
    {
     "data": {
      "text/plain": [
       "count    18081.000000\n",
       "mean       432.402854\n",
       "std        250.696392\n",
       "min          1.000000\n",
       "25%        256.000000\n",
       "50%        348.000000\n",
       "75%        612.000000\n",
       "max       1562.000000\n",
       "Name: correct_response, dtype: float64"
      ]
     },
     "execution_count": 5,
     "metadata": {},
     "output_type": "execute_result"
    }
   ],
   "source": [
    "# Cull items that interacted with significant users\n",
    "item_encounter_counts = df_fe[df_fe['user_id'].isin(user_sig.index)].groupby('item_id')['correct_response'].count()\n",
    "item_encounter_counts.describe()"
   ]
  },
  {
   "cell_type": "markdown",
   "metadata": {},
   "source": [
    "The 25th percentile has plenty of interactions, so we'll use that as our threshold."
   ]
  },
  {
   "cell_type": "code",
   "execution_count": 6,
   "metadata": {},
   "outputs": [
    {
     "name": "stdout",
     "output_type": "stream",
     "text": [
      "users: 42200 items: 13517\n"
     ]
    }
   ],
   "source": [
    "# Cull significant items\n",
    "item_sig = item_encounter_counts[item_encounter_counts > item_encounter_counts.quantile(0.25)]\n",
    "\n",
    "# How many users and items are we left with?\n",
    "print(f'users: {user_sig.shape[0]}', f'items: {item_sig.shape[0]}')"
   ]
  },
  {
   "cell_type": "markdown",
   "metadata": {},
   "source": [
    "### Fill in sparse data\n",
    "#### Perform SVD\n",
    "We already know that our data is sparse; not every user has interacted with every item. If we're planning to use machine learning to make predictions, we're going to have to fill in our matrix. [Funk SVD](https://surprise.readthedocs.io/en/stable/matrix_factorization.html#surprise.prediction_algorithms.matrix_factorization.SVD) has the amazing ability to fill sparse user-item interaction data like ours with predictions, so let's try it out!\n",
    "\n",
    "**Although Funk SVD is normally used to predict user ratings on items, I'm choosing to view correct and incorrect answers as \"ratings\" of items. Theoretically, predictions should reflect a user's likelihood to get an item correct. This is the \"big trick\" I've come up with to avoid using more traditional [computerized adaptive testing](https://en.wikipedia.org/wiki/Computerized_adaptive_testing) techniques (which would be the fallback approach if this one doesn't work).**\n",
    "\n",
    "We're using [Surprise](http://surpriselib.com/) for this, so first we need to create a trainset from our first encounters, fit the SVD algorithm with the trainset, then reconstruct the matrix from the resulting factorizations.\n",
    "\n",
    "_NOTE: For operations that create large artifacts, I try to load cached versions before recreating them from scratch._"
   ]
  },
  {
   "cell_type": "code",
   "execution_count": 7,
   "metadata": {},
   "outputs": [],
   "source": [
    "# Make trainset\n",
    "cached_trainset_path = 'cached/trainset.joblib'\n",
    "try:\n",
    "    # Load trainset\n",
    "    trainset = load(cached_trainset_path)\n",
    "except:\n",
    "    # Build data reader with binary \"rating scale\" representing wrong and right answers\n",
    "    reader = Reader(rating_scale=(0, 1))\n",
    "    \n",
    "    # Build trainset\n",
    "    trainset = Dataset.load_from_df(df_sig_encounters, reader).build_full_trainset()\n",
    "    \n",
    "    # Save trainset\n",
    "    dump(trainset, cached_trainset_path)"
   ]
  },
  {
   "cell_type": "code",
   "execution_count": 8,
   "metadata": {},
   "outputs": [],
   "source": [
    "# Perform SVD\n",
    "cached_svd_path = 'cached/svd.joblib'\n",
    "try:\n",
    "    # Load trained SVD object\n",
    "    svd = load(cached_svd_path)\n",
    "except:\n",
    "    # Train SVD algorithm with the default 100 factors and 20 epochs\n",
    "    svd = SVD(random_state=random_state).fit(trainset)\n",
    "    \n",
    "    # Save trained SVD object\n",
    "    dump(svd, cached_svd_path)"
   ]
  },
  {
   "cell_type": "markdown",
   "metadata": {},
   "source": [
    "#### Normalize the item biases\n",
    "In the [Exploration](Exploration.ipynb#testings_testitem) notebook, I noted that the `est_rating` field of the `testings_testitem` SQL table was populated with ratings that indicated relative (not absolute) item difficulty that could not always be trusted. An exciting byproduct of SVD is the bias it generates for every item (and user), effectively providing us with a mathematically justifiable, absolute alternative! **We can interpret an item's bias as the \"easiness\" of that item, as a higher bias means a given user is more likely to answer it correctly.**\n",
    "\n",
    "So now it's time for another sanity check: the item biases should theoretically correlate with the estimated ratings."
   ]
  },
  {
   "cell_type": "code",
   "execution_count": 9,
   "metadata": {},
   "outputs": [
    {
     "name": "stdout",
     "output_type": "stream",
     "text": [
      "correlation: 0.9681455049433862\n"
     ]
    },
    {
     "data": {
      "text/plain": [
       "<matplotlib.collections.PathCollection at 0x247162fdb48>"
      ]
     },
     "execution_count": 9,
     "metadata": {},
     "output_type": "execute_result"
    },
    {
     "data": {
      "image/png": "[encoded data removed]",
      "text/plain": [
       "<Figure size 432x288 with 1 Axes>"
      ]
     },
     "metadata": {
      "needs_background": "light"
     },
     "output_type": "display_data"
    }
   ],
   "source": [
    "# Get axis labels for the trainset\n",
    "user_ids = [trainset.to_raw_uid(user) for user in trainset.all_users()]\n",
    "item_ids = [trainset.to_raw_iid(item) for item in trainset.all_items()]\n",
    "\n",
    "# Associate item ids with item biases\n",
    "item_biases = pd.Series(svd.bi, index=item_ids, name='item_bias')\n",
    "\n",
    "# Get estimated ratings\n",
    "df_est_ratings = pd.read_csv('data/testitem_active_est_rating.csv', encoding='utf-8', index_col='id')\n",
    "\n",
    "# Do inverted item biases correlate positively with estimated ratings?\n",
    "df_biases_ratings = df_est_ratings.merge(item_biases, left_index=True, right_index=True)\n",
    "x_rating = df_biases_ratings['est_rating']\n",
    "y_bias = -df_biases_ratings['item_bias']\n",
    "print(f'correlation: {np.corrcoef(x_rating, y_bias)[0, 1]}')\n",
    "plt.scatter(x_rating, y_bias)"
   ]
  },
  {
   "cell_type": "markdown",
   "metadata": {},
   "source": [
    "Hey! Not bad! To me, this is strong evidence in favor of the conjecture that item biases generated from SVD can be used as a measure of item difficulty. With that shown, let's reconstruct the data and get our answer predictions!"
   ]
  },
  {
   "cell_type": "markdown",
   "metadata": {},
   "source": [
    "#### Reconstruct the data\n",
    "This was tricky for me! [The formula for reconstructing a prediction](https://surprise.readthedocs.io/en/stable/matrix_factorization.html#surprise.prediction_algorithms.matrix_factorization.SVD) is $\\hat{r}_{ui} = \\mu + b_u + b_i + q_i^Tp_u$, where:\n",
    "\n",
    "- $\\mu$ is the global mean\n",
    "- $b_u$ is the user bias\n",
    "- $b_i$ is the item bias\n",
    "- $q_i^T$ is the factored item matrix, transposed\n",
    "- $p_u$ is the factored user matrix\n",
    "\n",
    "At first, I reconstructed the data without adding the global mean. That threw everything off, and I despaired until I realized my mistake! Anyway, let's construct it the right way now."
   ]
  },
  {
   "cell_type": "code",
   "execution_count": 10,
   "metadata": {},
   "outputs": [],
   "source": [
    "# Construct matrix data\n",
    "def construct_matrix_data(svd, trainset):\n",
    "    # Assemble variables\n",
    "    index = user_ids\n",
    "    columns = item_ids\n",
    "    global_mean = trainset.global_mean\n",
    "    bu = np.array([svd.bu]).transpose()\n",
    "    bi = svd.bi\n",
    "    qi_T = svd.qi.transpose()\n",
    "    pu = svd.pu\n",
    "    \n",
    "    # Construct dataframe\n",
    "    df_md = pd.DataFrame(\n",
    "        global_mean + bu + bi + np.dot(pu, qi_T),\n",
    "        index=user_ids,\n",
    "        columns=item_ids)\n",
    "    return df_md\n",
    "\n",
    "cached_matrix_data_path = 'cached/matrix_data.joblib'\n",
    "try:\n",
    "    # Load trained SVD object\n",
    "    df_md = load(cached_matrix_data_path)\n",
    "except:\n",
    "    # Construct the matrix data\n",
    "    df_md = construct_matrix_data(svd, trainset)\n",
    "    \n",
    "    # Save the matrix data\n",
    "    dump(df_md, cached_matrix_data_path)"
   ]
  },
  {
   "cell_type": "markdown",
   "metadata": {},
   "source": [
    "### Create training data\n",
    "#### Determine user scores\n",
    "We already know the inputs to our machine learning model will be based on our matrix data, which represents the users' chances of answering items correctly. However, we don't know our outputs. What is a user's \"score\"? How do we get it?\n",
    "\n",
    "In my early work, I attempted to use the user biases generated by SVD as the output. It seemed perfect, because I'd been handed a set of numbers that represented each user's general ability to answer items correctly, and that's essentially what I want for my model output. Here's what the user biases look like:"
   ]
  },
  {
   "cell_type": "code",
   "execution_count": 11,
   "metadata": {},
   "outputs": [
    {
     "data": {
      "text/plain": [
       "(array([5.2000e+01, 1.0000e+01, 1.1000e+01, 7.8000e+01, 2.9600e+02,\n",
       "        1.6190e+03, 9.9480e+03, 1.9971e+04, 9.3280e+03, 8.8700e+02]),\n",
       " array([-0.94839306, -0.82299685, -0.69760064, -0.57220443, -0.44680822,\n",
       "        -0.32141201, -0.1960158 , -0.0706196 ,  0.05477661,  0.18017282,\n",
       "         0.30556903]),\n",
       " <a list of 10 Patch objects>)"
      ]
     },
     "execution_count": 11,
     "metadata": {},
     "output_type": "execute_result"
    },
    {
     "data": {
      "image/png": "[encoded data removed]",
      "text/plain": [
       "<Figure size 432x288 with 1 Axes>"
      ]
     },
     "metadata": {
      "needs_background": "light"
     },
     "output_type": "display_data"
    }
   ],
   "source": [
    "plt.hist(svd.bu)"
   ]
  },
  {
   "cell_type": "markdown",
   "metadata": {},
   "source": [
    "This looks a lot like the average percent correct by user, which we saw in [the Users section of the Exploration notebook](Exploration.ipynb#Users). However, recall that there's a natural bias in our data toward answering questions correctly, since _Which Is English?_ attempts to challenge players at their level. It makes sense, then, that our mean would be high. At first, I attempted to compensate for this by clipping the data to $\\mu \\pm 3\\sigma$. But then I realized two things:\n",
    "- There may be a difference between a user's average ability to answer correctly and their ability score. For my purposes, I wanted the ability score.\n",
    "- Clipping the data is an artificial means of determining the minimum and maximum score. Was there a more natural way I could do this?\n",
    "\n",
    "So instead of using user biases, let's try to **find the item bias at which each user's chance of answering correctly falls below a given threshold.** That may give us an alternate way to determine a user's score that solves the problems listed above.\n",
    "\n",
    "Since classic [item response theory places a user's ability at the half-way point between the guessing chance and one](https://en.wikipedia.org/wiki/Item_response_theory#The_item_response_function), I figured $(1.0 - 0.5) / 2 + 0.5 = 0.75$ would be a good threshold to choose. So let's take a look at a sample of user guessing chances plotted against item biases with that threshold specially marked."
   ]
  },
  {
   "cell_type": "code",
   "execution_count": 12,
   "metadata": {},
   "outputs": [
    {
     "data": {
      "image/png": "[encoded data removed]",
      "text/plain": [
       "<Figure size 1152x1440 with 5 Axes>"
      ]
     },
     "metadata": {
      "needs_background": "light"
     },
     "output_type": "display_data"
    }
   ],
   "source": [
    "# Set threshold\n",
    "threshold = 0.75\n",
    "\n",
    "# Get sample user ids\n",
    "sample_size = 5\n",
    "user_sample_ids = np.random.choice(user_ids, sample_size)\n",
    "\n",
    "# Create subplots\n",
    "fig, axs = plt.subplots(sample_size, figsize=(16, 4 * sample_size), sharex=True, sharey=True)\n",
    "i = 0\n",
    "for label, data in df_md.loc[user_sample_ids].iterrows():\n",
    "    # Plot correct chance againt item bias\n",
    "    axs[i].scatter(-svd.bi, data)\n",
    "    \n",
    "    # Plot line of best fit\n",
    "    line = linregress(-svd.bi, data)\n",
    "    axs[i].plot(-svd.bi, line.slope * -svd.bi + line.intercept, color='red')\n",
    "    \n",
    "    # Show item bias at threshold\n",
    "    thresh_bias = (threshold - line.intercept) / line.slope\n",
    "    axs[i].plot(thresh_bias, threshold, marker='o', color='yellow')\n",
    "    axs[i].set_title(f'thresh_bias = {thresh_bias}')\n",
    "    \n",
    "    # Increment subplot index\n",
    "    i += 1"
   ]
  },
  {
   "cell_type": "markdown",
   "metadata": {},
   "source": [
    "Above, the yellow dot indicates the item difficulty (expressed in terms of SVD item bias) at which the user is estimated to have a 75% chance of getting the correct answer. Notice that sometimes, the yellow dot may fall outside the range of item biases; this means that, in our scoring system, the user would get an extreme score (either the minimum or the maximum). That's good! It means the extremes of our scale will not be reserved for the worst or best testers ever, but rather can be achieved naturally by any user who is either _mostly guessing_ or _mostly not guessing_ at the entire pool of test items.\n",
    "\n",
    "_NOTE: Notice I didn't clip the estimated correct answer chances to a minimum of 0.5, the pure guessing chance. I did this in order to facilitate fitting a line to the data. Later, when we train our model, we'll clip the inputs to a minimum of 0.5. When we test actual users, after all, that will be the real minimum chance they have to answer a question correctly._\n",
    "\n",
    "Now that we have the definition of a score, we'll calculate it for every user. **As an additional step, we'll normalize the item biases to a desired range. That range will be $[20, 120]$ to avoid giving anyone a score of zero, which is a real downer.**"
   ]
  },
  {
   "cell_type": "code",
   "execution_count": 13,
   "metadata": {},
   "outputs": [
    {
     "name": "stdout",
     "output_type": "stream",
     "text": [
      "count    42200.000000\n",
      "mean        51.388437\n",
      "std         15.456589\n",
      "min        -95.449109\n",
      "25%         42.804895\n",
      "50%         51.133845\n",
      "75%         60.618073\n",
      "max        122.531720\n",
      "dtype: float64\n"
     ]
    },
    {
     "data": {
      "text/plain": [
       "<matplotlib.axes._subplots.AxesSubplot at 0x247165447c8>"
      ]
     },
     "execution_count": 13,
     "metadata": {},
     "output_type": "execute_result"
    },
    {
     "data": {
      "image/png": "[encoded data removed]",
      "text/plain": [
       "<Figure size 432x288 with 1 Axes>"
      ]
     },
     "metadata": {
      "needs_background": "light"
     },
     "output_type": "display_data"
    }
   ],
   "source": [
    "# Normalize biases\n",
    "def normalize_bias(bias, min_norm=20, max_norm=120):\n",
    "    min_real = np.min(bias)\n",
    "    max_real = np.max(bias)\n",
    "    return (bias - min_real) / (max_real - min_real) * (max_norm - min_norm) + min_norm\n",
    "\n",
    "# Get line of best fit for all users\n",
    "normalized_biases = normalize_bias(-svd.bi)\n",
    "df_lindata = pd.DataFrame(\n",
    "    [linregress(normalized_biases, row[1])._asdict() for row in df_md.iterrows()],\n",
    "    df_md.index)\n",
    "\n",
    "# Get user scores\n",
    "user_scores = (threshold - df_lindata['intercept']) / df_lindata['slope']\n",
    "print(user_scores.describe())\n",
    "user_scores.clip(np.min(normalized_biases), np.max(normalized_biases)).hist()"
   ]
  },
  {
   "cell_type": "markdown",
   "metadata": {},
   "source": [
    "That feels better and more plausible for our training userbase! We have a lot of people of middling ability and fewer at either extreme, skewing toward those with less ability. This makes perfect sense for the demographic that was finding _Which Is English?_, a game aimed at non-native English speakers.\n",
    "\n",
    "Now that we have our inputs and our outputs, the time has come to train our model..."
   ]
  },
  {
   "cell_type": "markdown",
   "metadata": {},
   "source": [
    "## Training a model\n",
    "### Decision trees\n",
    "When it comes to selecting an algorithm to train, we want to keep in mind the nature of what we're trying to do. Is there an algorithm that serves the aim of building an adaptive test? An adaptive test's primary feature (besides that it works) is that it avoids giving the user _every single available test item_, which would be long and exhausting. Instead, an adaptive test should ask the minimum number of items required to be reasonably certain of the strength of the test-taker's latent ability. A linear regressor or neural network would certainly generate importance weights for all the items, and then we could present the items in order of their weights. But is there another model that has the property of choosing features by importance built into its basic structure? **Yes: decision trees.**\n",
    "\n",
    "So the question becomes, **can we build a decision tree, deconstruct it, then turn each node into a test item?** It would certainly have adaptive qualities. Let's try it!\n",
    "\n",
    "### A decision tree with items as nodes\n",
    "First, we'll try asking scikit-learn to build a decision tree where each feature is an item. (Also, recall that we'll now be clipping our data to $[0.5, 1.0]$.) We'll try out different `min_samples_leaf` values to see if we can both maximize our model's score and reduce the depth of our tree.\n",
    "\n",
    "For our metrics, we'll use:\n",
    "- Model score, in this case R^2\n",
    "- Mean error (\"On average, how off is our predicted user score?\")\n",
    "- Max error (\"What's the worst case scenario for a bad prediction?\")\n",
    "- Max tree depth (\"How long will this test take?\")"
   ]
  },
  {
   "cell_type": "code",
   "execution_count": 14,
   "metadata": {},
   "outputs": [
    {
     "name": "stdout",
     "output_type": "stream",
     "text": [
      "{'min_samples_leaf': 4}\n",
      "model score: 0.9847144527208922\n",
      "mean error: 1.9201226450623425\n",
      "max error: 39.89791199192399\n",
      "max tree depth: 20\n"
     ]
    }
   ],
   "source": [
    "# Report metrics\n",
    "def report_metrics(dt, X_test, y_test):\n",
    "    print(f'model score: {dt.score(X_test, y_test)}')\n",
    "    print(f'mean error: {mean_squared_error(y_test, dt.predict(X_test), squared=False)}')\n",
    "    print(f'max error: {max_error(y_test, dt.predict(X_test))}')\n",
    "    print(f'max tree depth: {dt.get_depth()}')\n",
    "\n",
    "# Get training and testing data\n",
    "X = df_md.clip(0.5) # Clip data minimum to pure guessing chance\n",
    "y = user_scores\n",
    "X_train, X_test, y_train, y_test = train_test_split(X, y, random_state=random_state)\n",
    "\n",
    "# Train model with grid search\n",
    "regressor = DecisionTreeRegressor(random_state=random_state)\n",
    "params = { 'min_samples_leaf': [2, 4, 8] }\n",
    "model = GridSearchCV(regressor, params).fit(X_train, y_train)\n",
    "print(model.best_params_)\n",
    "report_metrics(model.best_estimator_, X_test, y_test)"
   ]
  },
  {
   "cell_type": "markdown",
   "metadata": {},
   "source": [
    "Those are pretty good numbers! The model definitely seems usable, although the max error leaves something to be desired.\n",
    "\n",
    "Of the given options, the optimal samples per leaf is four, so we'll content ourselves with that.\n",
    "\n",
    "Now let's sanity-check our model. What will a score look like for a test-taker who answers everything randomly (the total guesser) versus a tester who answers everything correctly? Ideally, their scores would be 20 (the minimum) and 120 (the maximum), respectively."
   ]
  },
  {
   "cell_type": "code",
   "execution_count": 53,
   "metadata": {},
   "outputs": [
    {
     "name": "stdout",
     "output_type": "stream",
     "text": [
      "random: [67.95225991]\n",
      "perfect: [120.58292704]\n"
     ]
    }
   ],
   "source": [
    "# Simulate random right and wrong answers\n",
    "random_answers = np.random.randint(0, 2, X.shape[1])\n",
    "print(f'random: {model.predict([random_answers])}')\n",
    "\n",
    "# Simulate all correct answers\n",
    "perfect_answers = np.ones(X.shape[1])\n",
    "print(f'perfect: {model.predict([perfect_answers])}')"
   ]
  },
  {
   "cell_type": "markdown",
   "metadata": {},
   "source": [
    "While the perfect test result is 120 like we wanted, the random test result was unfortunately not 20; it turns out always to be a middling score. It looks as if we have a problem: **the decision tree takes each individual answer too seriously. Our data was trained on statistical chances, but our model was fed specific, binary answers.**\n",
    "\n",
    "We need a way to make it so each node on the tree ends up with statistically significant input."
   ]
  },
  {
   "cell_type": "markdown",
   "metadata": {},
   "source": [
    "### A decision tree with buckets of items as nodes\n",
    "One solution might be to cluster our items into buckets, meaning instead of asking a test-taker to answer a single item, we ask them to answer a bunch of similar items, which will give our predictive model inputs that are still discrete but more specific than just 0 or 1.\n",
    "\n",
    "There are many approaches we could take to group items, including [truncated SVD](https://scikit-learn.org/stable/modules/generated/sklearn.decomposition.TruncatedSVD.html), but that may be overkill when we can reasonably cluster items based on their bias instead.\n",
    "\n",
    "To begin, we need to choose a bucket size. To prove out the idea, we just need a reasonable place to start. I like seven because it means the chances of guessing all right answers is less than 1% ($1 / 2^7 = 0.0078$). Let's see what our possible test inputs become with a bucket size of seven."
   ]
  },
  {
   "cell_type": "code",
   "execution_count": 20,
   "metadata": {},
   "outputs": [
    {
     "name": "stdout",
     "output_type": "stream",
     "text": [
      "0 correct = 0.0\n",
      "1 correct = 0.14285714285714285\n",
      "2 correct = 0.2857142857142857\n",
      "3 correct = 0.42857142857142855\n",
      "4 correct = 0.5714285714285714\n",
      "5 correct = 0.7142857142857143\n",
      "6 correct = 0.8571428571428571\n",
      "7 correct = 1.0\n"
     ]
    }
   ],
   "source": [
    "# Set bucket size\n",
    "bucket_size = 7\n",
    "\n",
    "# Calculate possible test inputs\n",
    "for i in range(0, bucket_size + 1):\n",
    "    print(f'{i} correct = {i / bucket_size}')"
   ]
  },
  {
   "cell_type": "markdown",
   "metadata": {},
   "source": [
    "Now we're learning one of eight possible values per node instead of one; that's much better.\n",
    "\n",
    "Let's make our buckets. To do this, we'll sort our matrix data by item bias, take the maximum sample size divisible by seven, and turn them into buckets by taking the mean of their predictions."
   ]
  },
  {
   "cell_type": "code",
   "execution_count": 21,
   "metadata": {},
   "outputs": [
    {
     "name": "stdout",
     "output_type": "stream",
     "text": [
      "(42200, 1931)\n"
     ]
    },
    {
     "data": {
      "text/html": [
       "<div>\n",
       "<style scoped>\n",
       "    .dataframe tbody tr th:only-of-type {\n",
       "        vertical-align: middle;\n",
       "    }\n",
       "\n",
       "    .dataframe tbody tr th {\n",
       "        vertical-align: top;\n",
       "    }\n",
       "\n",
       "    .dataframe thead th {\n",
       "        text-align: right;\n",
       "    }\n",
       "</style>\n",
       "<table border=\"1\" class=\"dataframe\">\n",
       "  <thead>\n",
       "    <tr style=\"text-align: right;\">\n",
       "      <th></th>\n",
       "      <th>0</th>\n",
       "      <th>1</th>\n",
       "      <th>2</th>\n",
       "      <th>3</th>\n",
       "      <th>4</th>\n",
       "      <th>5</th>\n",
       "      <th>6</th>\n",
       "      <th>7</th>\n",
       "      <th>8</th>\n",
       "      <th>9</th>\n",
       "      <th>...</th>\n",
       "      <th>1921</th>\n",
       "      <th>1922</th>\n",
       "      <th>1923</th>\n",
       "      <th>1924</th>\n",
       "      <th>1925</th>\n",
       "      <th>1926</th>\n",
       "      <th>1927</th>\n",
       "      <th>1928</th>\n",
       "      <th>1929</th>\n",
       "      <th>1930</th>\n",
       "    </tr>\n",
       "  </thead>\n",
       "  <tbody>\n",
       "    <tr>\n",
       "      <th>680</th>\n",
       "      <td>0.193613</td>\n",
       "      <td>0.262878</td>\n",
       "      <td>0.320998</td>\n",
       "      <td>0.333770</td>\n",
       "      <td>0.313280</td>\n",
       "      <td>0.351282</td>\n",
       "      <td>0.338707</td>\n",
       "      <td>0.341230</td>\n",
       "      <td>0.415754</td>\n",
       "      <td>0.356665</td>\n",
       "      <td>...</td>\n",
       "      <td>1.008720</td>\n",
       "      <td>1.035305</td>\n",
       "      <td>1.007363</td>\n",
       "      <td>1.009705</td>\n",
       "      <td>1.030698</td>\n",
       "      <td>1.023020</td>\n",
       "      <td>1.002516</td>\n",
       "      <td>1.016287</td>\n",
       "      <td>1.021004</td>\n",
       "      <td>1.023167</td>\n",
       "    </tr>\n",
       "    <tr>\n",
       "      <th>1140</th>\n",
       "      <td>-0.118585</td>\n",
       "      <td>-0.073076</td>\n",
       "      <td>-0.025769</td>\n",
       "      <td>-0.028590</td>\n",
       "      <td>0.025429</td>\n",
       "      <td>0.020851</td>\n",
       "      <td>0.011226</td>\n",
       "      <td>0.078633</td>\n",
       "      <td>0.037337</td>\n",
       "      <td>0.011431</td>\n",
       "      <td>...</td>\n",
       "      <td>0.579938</td>\n",
       "      <td>0.588444</td>\n",
       "      <td>0.582922</td>\n",
       "      <td>0.575385</td>\n",
       "      <td>0.592268</td>\n",
       "      <td>0.592067</td>\n",
       "      <td>0.590397</td>\n",
       "      <td>0.600336</td>\n",
       "      <td>0.590818</td>\n",
       "      <td>0.581868</td>\n",
       "    </tr>\n",
       "    <tr>\n",
       "      <th>684</th>\n",
       "      <td>0.201216</td>\n",
       "      <td>0.243090</td>\n",
       "      <td>0.257401</td>\n",
       "      <td>0.307879</td>\n",
       "      <td>0.287979</td>\n",
       "      <td>0.288481</td>\n",
       "      <td>0.317748</td>\n",
       "      <td>0.378559</td>\n",
       "      <td>0.327221</td>\n",
       "      <td>0.355542</td>\n",
       "      <td>...</td>\n",
       "      <td>0.895252</td>\n",
       "      <td>0.901247</td>\n",
       "      <td>0.908316</td>\n",
       "      <td>0.884718</td>\n",
       "      <td>0.900871</td>\n",
       "      <td>0.885401</td>\n",
       "      <td>0.882633</td>\n",
       "      <td>0.891561</td>\n",
       "      <td>0.879463</td>\n",
       "      <td>0.913809</td>\n",
       "    </tr>\n",
       "    <tr>\n",
       "      <th>743</th>\n",
       "      <td>0.226461</td>\n",
       "      <td>0.289766</td>\n",
       "      <td>0.308667</td>\n",
       "      <td>0.374955</td>\n",
       "      <td>0.363765</td>\n",
       "      <td>0.345437</td>\n",
       "      <td>0.347296</td>\n",
       "      <td>0.402635</td>\n",
       "      <td>0.399489</td>\n",
       "      <td>0.403678</td>\n",
       "      <td>...</td>\n",
       "      <td>0.968777</td>\n",
       "      <td>0.964714</td>\n",
       "      <td>0.967747</td>\n",
       "      <td>0.958679</td>\n",
       "      <td>0.959648</td>\n",
       "      <td>0.960985</td>\n",
       "      <td>0.970508</td>\n",
       "      <td>0.963610</td>\n",
       "      <td>0.986983</td>\n",
       "      <td>0.974768</td>\n",
       "    </tr>\n",
       "    <tr>\n",
       "      <th>1464</th>\n",
       "      <td>-0.649170</td>\n",
       "      <td>-0.592197</td>\n",
       "      <td>-0.564149</td>\n",
       "      <td>-0.561420</td>\n",
       "      <td>-0.528678</td>\n",
       "      <td>-0.545119</td>\n",
       "      <td>-0.520178</td>\n",
       "      <td>-0.495936</td>\n",
       "      <td>-0.518353</td>\n",
       "      <td>-0.498456</td>\n",
       "      <td>...</td>\n",
       "      <td>0.064773</td>\n",
       "      <td>0.079326</td>\n",
       "      <td>0.066491</td>\n",
       "      <td>0.055174</td>\n",
       "      <td>0.060467</td>\n",
       "      <td>0.053007</td>\n",
       "      <td>0.050122</td>\n",
       "      <td>0.052596</td>\n",
       "      <td>0.072943</td>\n",
       "      <td>0.048837</td>\n",
       "    </tr>\n",
       "  </tbody>\n",
       "</table>\n",
       "<p>5 rows × 1931 columns</p>\n",
       "</div>"
      ],
      "text/plain": [
       "          0         1         2         3         4         5         6     \\\n",
       "680   0.193613  0.262878  0.320998  0.333770  0.313280  0.351282  0.338707   \n",
       "1140 -0.118585 -0.073076 -0.025769 -0.028590  0.025429  0.020851  0.011226   \n",
       "684   0.201216  0.243090  0.257401  0.307879  0.287979  0.288481  0.317748   \n",
       "743   0.226461  0.289766  0.308667  0.374955  0.363765  0.345437  0.347296   \n",
       "1464 -0.649170 -0.592197 -0.564149 -0.561420 -0.528678 -0.545119 -0.520178   \n",
       "\n",
       "          7         8         9     ...      1921      1922      1923  \\\n",
       "680   0.341230  0.415754  0.356665  ...  1.008720  1.035305  1.007363   \n",
       "1140  0.078633  0.037337  0.011431  ...  0.579938  0.588444  0.582922   \n",
       "684   0.378559  0.327221  0.355542  ...  0.895252  0.901247  0.908316   \n",
       "743   0.402635  0.399489  0.403678  ...  0.968777  0.964714  0.967747   \n",
       "1464 -0.495936 -0.518353 -0.498456  ...  0.064773  0.079326  0.066491   \n",
       "\n",
       "          1924      1925      1926      1927      1928      1929      1930  \n",
       "680   1.009705  1.030698  1.023020  1.002516  1.016287  1.021004  1.023167  \n",
       "1140  0.575385  0.592268  0.592067  0.590397  0.600336  0.590818  0.581868  \n",
       "684   0.884718  0.900871  0.885401  0.882633  0.891561  0.879463  0.913809  \n",
       "743   0.958679  0.959648  0.960985  0.970508  0.963610  0.986983  0.974768  \n",
       "1464  0.055174  0.060467  0.053007  0.050122  0.052596  0.072943  0.048837  \n",
       "\n",
       "[5 rows x 1931 columns]"
      ]
     },
     "execution_count": 21,
     "metadata": {},
     "output_type": "execute_result"
    }
   ],
   "source": [
    "# Randomly choose which item ids to keep and sort by bias\n",
    "largest_sample_size = len(item_biases) - len(item_biases) % bucket_size\n",
    "kept_item_ids = item_biases.sample(largest_sample_size, random_state=random_state).sort_values().index\n",
    "\n",
    "# Split item ids into buckets\n",
    "buckets = np.split(kept_item_ids, int(len(kept_item_ids) / bucket_size))\n",
    "df_bucketed = pd.concat([df_md[bucket].mean(axis=1) for bucket in buckets], axis=1)\n",
    "print(df_bucketed.shape)\n",
    "df_bucketed.head()"
   ]
  },
  {
   "cell_type": "markdown",
   "metadata": {},
   "source": [
    "We now have 1,931 features for our decision tree to choose from instead of 13,517. Let's try training our model again."
   ]
  },
  {
   "cell_type": "code",
   "execution_count": 22,
   "metadata": {},
   "outputs": [
    {
     "name": "stdout",
     "output_type": "stream",
     "text": [
      "{'min_samples_leaf': 8}\n",
      "model score: 0.9899688409678731\n",
      "mean error: 1.5670537478693711\n",
      "max error: 43.09553473064302\n",
      "max tree depth: 18\n"
     ]
    }
   ],
   "source": [
    "# Get training and testing data\n",
    "Xb = df_bucketed.clip(0.5)\n",
    "Xb_train, Xb_test, yb_train, yb_test = train_test_split(Xb, y)\n",
    "\n",
    "# Train model with grid search\n",
    "modelb = GridSearchCV(regressor, params).fit(Xb_train, yb_train)\n",
    "print(modelb.best_params_)\n",
    "report_metrics(modelb.best_estimator_, Xb_test, yb_test)"
   ]
  },
  {
   "cell_type": "markdown",
   "metadata": {},
   "source": [
    "Now for our last sanity check: _Do random answers generate a low score?_"
   ]
  },
  {
   "cell_type": "code",
   "execution_count": 42,
   "metadata": {},
   "outputs": [
    {
     "name": "stdout",
     "output_type": "stream",
     "text": [
      "random: [31.09393356]\n",
      "perfect: [116.99724618]\n"
     ]
    }
   ],
   "source": [
    "# Simulate random right and wrong answers\n",
    "random_answers_b = np.random.uniform(size=Xb.shape[1])\n",
    "print(f'random: {modelb.predict([random_answers_b])}')\n",
    "\n",
    "# Simulate all correct answers\n",
    "perfect_answers_b = np.ones(Xb.shape[1])\n",
    "print(f'perfect: {modelb.predict([perfect_answers_b])}')"
   ]
  },
  {
   "cell_type": "markdown",
   "metadata": {},
   "source": [
    "Excellent! This is the decision tree we've been looking for.\n",
    "\n",
    "**Now, by [dissecting the decision tree's internal data](https://scikit-learn.org/stable/auto_examples/tree/plot_unveil_tree_structure.html), we should be able to generate rules for an adaptive test, where each node takes the percent of correct answers from seven questions and chooses the next node based on its split threshold.**\n",
    "\n",
    "Going a step further, we could implement a [random forest](https://scikit-learn.org/stable/modules/generated/sklearn.ensemble.RandomForestRegressor.html) (or [extra trees](https://scikit-learn.org/stable/modules/generated/sklearn.ensemble.ExtraTreesRegressor.html)) regressor, deliver a multiple of the generated tests, and average the results—provided the test-delivery system has the logic to skip presenting duplicate items.\n",
    "\n",
    "The result of building that test is [here](https://mln-alpha.web.app/)."
   ]
  }
 ],
 "metadata": {
  "kernelspec": {
   "display_name": "wie",
   "language": "python",
   "name": "wie"
  },
  "language_info": {
   "codemirror_mode": {
    "name": "ipython",
    "version": 3
   },
   "file_extension": ".py",
   "mimetype": "text/x-python",
   "name": "python",
   "nbconvert_exporter": "python",
   "pygments_lexer": "ipython3",
   "version": "3.7.7"
  }
 },
 "nbformat": 4,
 "nbformat_minor": 4
}
