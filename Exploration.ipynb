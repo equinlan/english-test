{
 "cells": [
  {
   "cell_type": "markdown",
   "metadata": {},
   "source": [
    "# Exploration"
   ]
  },
  {
   "cell_type": "code",
   "execution_count": 50,
   "metadata": {},
   "outputs": [],
   "source": [
    "import matplotlib.pyplot as plt\n",
    "import pandas as pd"
   ]
  },
  {
   "cell_type": "markdown",
   "metadata": {},
   "source": [
    "## Notes\n",
    "This notebook is a distillation of my earlier work, reorganized and annotated to benefit presentation.\n",
    "\n",
    "Before `first_encounters.csv` can be properly referenced from this notebook, it must be extraced from [`first_encounters.zip`](data/first_encounters.zip) and placed in the `/data` directory."
   ]
  },
  {
   "cell_type": "markdown",
   "metadata": {},
   "source": [
    "## Data source\n",
    "Transparent Language provided me with access to a SQL dump of the _Which Is English?_ (WIE) database. Because the database contains proprietary information, it is not included in this project. However, data extracted for the purposes of exploration and analysis is shared here."
   ]
  },
  {
   "cell_type": "markdown",
   "metadata": {},
   "source": [
    "## Data exploration"
   ]
  },
  {
   "cell_type": "markdown",
   "metadata": {},
   "source": [
    "### Items\n",
    "WIE items are essentially binary choice questions, each having a _correct_ English word or phrase and an _incorrect_ one. For instance, the item may present a real English word next to a fake one:\n",
    "\n",
    "- \"apple\" (correct)\n",
    "- \"ropple\" (incorrect)\n",
    "\n",
    "Or, two sentences might be provided, one with correct English grammar and one not:\n",
    "\n",
    "- \"I went to the store yesterday.\" (correct)\n",
    "- \"I goed to the store yesterday.\" (incorrect)\n",
    "\n",
    "In the case of two phrases or sentences, part of the item text may be highlighted in order to help the player focus on the key words being contrasted. In that case, the data uses brackets to specify those key words:\n",
    "\n",
    "- `I [went] to the store yesterday.`\n",
    "- `I [goed] to the store yesterday.`\n",
    "\n",
    "The best way to get a sense for the content of WIE items is to [visit the _Which Is English?_ application](https://whichisenglish.transparent.com/) and play a game."
   ]
  },
  {
   "cell_type": "markdown",
   "metadata": {},
   "source": [
    "### Database\n",
    "The WIE database contains the following tables pertinent to our exploration:\n",
    "\n",
    "- `testings_testitem`, a table describing all items, including whether or not they were \"active\" (enabled) in the system as of the dump. (An item might be marked \"inactive\" if it is found to be faulty, e.g. it contains a spelling mistake.)\n",
    "- `testings_completedtestitem`, a table containing all interactions between users and items. An interaction results in a correct answer, an incorrect answer, or a timeout (WIE challenges are timed)."
   ]
  },
  {
   "cell_type": "markdown",
   "metadata": {},
   "source": [
    "### `testings_testitem`"
   ]
  },
  {
   "cell_type": "code",
   "execution_count": 16,
   "metadata": {},
   "outputs": [
    {
     "data": {
      "text/html": [
       "<div>\n",
       "<style scoped>\n",
       "    .dataframe tbody tr th:only-of-type {\n",
       "        vertical-align: middle;\n",
       "    }\n",
       "\n",
       "    .dataframe tbody tr th {\n",
       "        vertical-align: top;\n",
       "    }\n",
       "\n",
       "    .dataframe thead th {\n",
       "        text-align: right;\n",
       "    }\n",
       "</style>\n",
       "<table border=\"1\" class=\"dataframe\">\n",
       "  <thead>\n",
       "    <tr style=\"text-align: right;\">\n",
       "      <th></th>\n",
       "      <th>created</th>\n",
       "      <th>correct</th>\n",
       "      <th>incorrect</th>\n",
       "      <th>points</th>\n",
       "      <th>percent_correct</th>\n",
       "      <th>times_exposed</th>\n",
       "      <th>correct_responses</th>\n",
       "      <th>active</th>\n",
       "      <th>explanation</th>\n",
       "      <th>total_feedback</th>\n",
       "      <th>language_id</th>\n",
       "      <th>type_id</th>\n",
       "      <th>challenge_rating</th>\n",
       "      <th>svn_revision</th>\n",
       "      <th>rowhash</th>\n",
       "      <th>est_rating</th>\n",
       "      <th>search_key</th>\n",
       "      <th>explanation_text</th>\n",
       "      <th>hint</th>\n",
       "      <th>total_comments</th>\n",
       "    </tr>\n",
       "    <tr>\n",
       "      <th>id</th>\n",
       "      <th></th>\n",
       "      <th></th>\n",
       "      <th></th>\n",
       "      <th></th>\n",
       "      <th></th>\n",
       "      <th></th>\n",
       "      <th></th>\n",
       "      <th></th>\n",
       "      <th></th>\n",
       "      <th></th>\n",
       "      <th></th>\n",
       "      <th></th>\n",
       "      <th></th>\n",
       "      <th></th>\n",
       "      <th></th>\n",
       "      <th></th>\n",
       "      <th></th>\n",
       "      <th></th>\n",
       "      <th></th>\n",
       "      <th></th>\n",
       "    </tr>\n",
       "  </thead>\n",
       "  <tbody>\n",
       "    <tr>\n",
       "      <th>1</th>\n",
       "      <td>2011-10-24 10:25:40</td>\n",
       "      <td>a fair lady</td>\n",
       "      <td>a fare lady</td>\n",
       "      <td>10</td>\n",
       "      <td>90.18</td>\n",
       "      <td>1354</td>\n",
       "      <td>1221</td>\n",
       "      <td>1</td>\n",
       "      <td>Fair and \"fare\" are often confused. \"Fair\" mea...</td>\n",
       "      <td>0</td>\n",
       "      <td>1</td>\n",
       "      <td>1</td>\n",
       "      <td>2</td>\n",
       "      <td>107898</td>\n",
       "      <td>6759FBABBA97DCDC1D50743257AAA593</td>\n",
       "      <td>935</td>\n",
       "      <td>fair</td>\n",
       "      <td>Fair and \"fare\" are often confused. \"Fair\" mea...</td>\n",
       "      <td>NaN</td>\n",
       "      <td>0</td>\n",
       "    </tr>\n",
       "    <tr>\n",
       "      <th>2</th>\n",
       "      <td>2011-10-24 10:25:40</td>\n",
       "      <td>a [beautiful old wooden] cottage</td>\n",
       "      <td>a [wooden old beautiful] cottage</td>\n",
       "      <td>10</td>\n",
       "      <td>87.51</td>\n",
       "      <td>1657</td>\n",
       "      <td>1450</td>\n",
       "      <td>1</td>\n",
       "      <td>When more than one adjective is used, an opini...</td>\n",
       "      <td>0</td>\n",
       "      <td>1</td>\n",
       "      <td>1</td>\n",
       "      <td>3</td>\n",
       "      <td>107898</td>\n",
       "      <td>AD69D5988F6B5078FE2888CA86E4792D</td>\n",
       "      <td>1045</td>\n",
       "      <td>NaN</td>\n",
       "      <td>When more than one adjective is used, an opini...</td>\n",
       "      <td>NaN</td>\n",
       "      <td>0</td>\n",
       "    </tr>\n",
       "    <tr>\n",
       "      <th>3</th>\n",
       "      <td>2011-10-24 10:25:40</td>\n",
       "      <td>worked here [for] five years</td>\n",
       "      <td>worked here [since] five years</td>\n",
       "      <td>10</td>\n",
       "      <td>85.42</td>\n",
       "      <td>1790</td>\n",
       "      <td>1529</td>\n",
       "      <td>1</td>\n",
       "      <td>For and \"since\" are often confused. \"For\" refe...</td>\n",
       "      <td>1</td>\n",
       "      <td>1</td>\n",
       "      <td>1</td>\n",
       "      <td>2</td>\n",
       "      <td>107898</td>\n",
       "      <td>91BCA8E81FE1210AE0AF6F84CE30605A</td>\n",
       "      <td>1203</td>\n",
       "      <td>for</td>\n",
       "      <td>For and \"since\" are often confused. \"For\" refe...</td>\n",
       "      <td>NaN</td>\n",
       "      <td>0</td>\n",
       "    </tr>\n",
       "    <tr>\n",
       "      <th>4</th>\n",
       "      <td>2011-10-24 10:25:40</td>\n",
       "      <td>itsy bitsy spider</td>\n",
       "      <td>tinsy bitsy spider</td>\n",
       "      <td>10</td>\n",
       "      <td>80.56</td>\n",
       "      <td>1528</td>\n",
       "      <td>1231</td>\n",
       "      <td>1</td>\n",
       "      <td>Itsy bitsy spider is the name of a popular Eng...</td>\n",
       "      <td>0</td>\n",
       "      <td>1</td>\n",
       "      <td>1</td>\n",
       "      <td>2</td>\n",
       "      <td>107898</td>\n",
       "      <td>974A1DACF4CB22C0BB31243E3F1E9318</td>\n",
       "      <td>1552</td>\n",
       "      <td>itsy bitsy</td>\n",
       "      <td>Itsy bitsy spider is the name of a popular Eng...</td>\n",
       "      <td>NaN</td>\n",
       "      <td>0</td>\n",
       "    </tr>\n",
       "    <tr>\n",
       "      <th>5</th>\n",
       "      <td>2011-10-24 10:25:40</td>\n",
       "      <td>bank teller</td>\n",
       "      <td>bank windower</td>\n",
       "      <td>10</td>\n",
       "      <td>87.20</td>\n",
       "      <td>1266</td>\n",
       "      <td>1104</td>\n",
       "      <td>1</td>\n",
       "      <td>Of these two, only \"bank teller\" is correct En...</td>\n",
       "      <td>0</td>\n",
       "      <td>1</td>\n",
       "      <td>1</td>\n",
       "      <td>2</td>\n",
       "      <td>0</td>\n",
       "      <td>C257A2FB0F4D2F6F2ECED0550EEA1418</td>\n",
       "      <td>1298</td>\n",
       "      <td>teller</td>\n",
       "      <td>Of these two, only \"bank teller\" is correct En...</td>\n",
       "      <td>NaN</td>\n",
       "      <td>0</td>\n",
       "    </tr>\n",
       "  </tbody>\n",
       "</table>\n",
       "</div>"
      ],
      "text/plain": [
       "                created                           correct  \\\n",
       "id                                                          \n",
       "1   2011-10-24 10:25:40                       a fair lady   \n",
       "2   2011-10-24 10:25:40  a [beautiful old wooden] cottage   \n",
       "3   2011-10-24 10:25:40      worked here [for] five years   \n",
       "4   2011-10-24 10:25:40                 itsy bitsy spider   \n",
       "5   2011-10-24 10:25:40                       bank teller   \n",
       "\n",
       "                           incorrect  points  percent_correct  times_exposed  \\\n",
       "id                                                                             \n",
       "1                        a fare lady      10            90.18           1354   \n",
       "2   a [wooden old beautiful] cottage      10            87.51           1657   \n",
       "3     worked here [since] five years      10            85.42           1790   \n",
       "4                 tinsy bitsy spider      10            80.56           1528   \n",
       "5                      bank windower      10            87.20           1266   \n",
       "\n",
       "    correct_responses  active  \\\n",
       "id                              \n",
       "1                1221       1   \n",
       "2                1450       1   \n",
       "3                1529       1   \n",
       "4                1231       1   \n",
       "5                1104       1   \n",
       "\n",
       "                                          explanation  total_feedback  \\\n",
       "id                                                                      \n",
       "1   Fair and \"fare\" are often confused. \"Fair\" mea...               0   \n",
       "2   When more than one adjective is used, an opini...               0   \n",
       "3   For and \"since\" are often confused. \"For\" refe...               1   \n",
       "4   Itsy bitsy spider is the name of a popular Eng...               0   \n",
       "5   Of these two, only \"bank teller\" is correct En...               0   \n",
       "\n",
       "    language_id  type_id  challenge_rating  svn_revision  \\\n",
       "id                                                         \n",
       "1             1        1                 2        107898   \n",
       "2             1        1                 3        107898   \n",
       "3             1        1                 2        107898   \n",
       "4             1        1                 2        107898   \n",
       "5             1        1                 2             0   \n",
       "\n",
       "                             rowhash  est_rating  search_key  \\\n",
       "id                                                             \n",
       "1   6759FBABBA97DCDC1D50743257AAA593         935        fair   \n",
       "2   AD69D5988F6B5078FE2888CA86E4792D        1045         NaN   \n",
       "3   91BCA8E81FE1210AE0AF6F84CE30605A        1203         for   \n",
       "4   974A1DACF4CB22C0BB31243E3F1E9318        1552  itsy bitsy   \n",
       "5   C257A2FB0F4D2F6F2ECED0550EEA1418        1298      teller   \n",
       "\n",
       "                                     explanation_text  hint  total_comments  \n",
       "id                                                                           \n",
       "1   Fair and \"fare\" are often confused. \"Fair\" mea...   NaN               0  \n",
       "2   When more than one adjective is used, an opini...   NaN               0  \n",
       "3   For and \"since\" are often confused. \"For\" refe...   NaN               0  \n",
       "4   Itsy bitsy spider is the name of a popular Eng...   NaN               0  \n",
       "5   Of these two, only \"bank teller\" is correct En...   NaN               0  "
      ]
     },
     "execution_count": 16,
     "metadata": {},
     "output_type": "execute_result"
    }
   ],
   "source": [
    "# Show some rows from the testings_testitem table\n",
    "pd.read_csv('data/testings_testitem_head.txt', encoding='utf-8', sep='\\t', index_col='id').head()"
   ]
  },
  {
   "cell_type": "markdown",
   "metadata": {},
   "source": [
    "It's useful for us to be able to see which items are `active`; probably, we want to ignore inactive ones, as their interactions with users will have been tainted by spelling errors or whatever justified deactivating them.\n",
    "\n",
    "We can also see there's a `language_id` field; Transparent Language has experimented with other languages besides English, but we're only interested in English items for the purposes of this project.\n",
    "\n",
    "Lastly, we can see there's an `est_rating` field. Transparent Language used an undisclosed method to estimate the _relative difficulty_ of items in relation to each other. These numbers range roughly between 500 and 2000. However, we know the numbers are only estimates, and some of them aren't considered \"stable\" (i.e. Transparent Language anticipates they may change significantly upon future interactions with WIE players). To me, that means I'll still have to come up with my own way of using the data to rate user ability, but I'll have a set of numbers I can use to sanity-check my work. If my numbers at least correlate with the estimated ratings, I'll have more confidence in my methods. [See the Methodology notebook](Methodology.ipynb) for more on that."
   ]
  },
  {
   "cell_type": "markdown",
   "metadata": {},
   "source": [
    "### `testings_completedtestitem`"
   ]
  },
  {
   "cell_type": "code",
   "execution_count": 17,
   "metadata": {},
   "outputs": [
    {
     "data": {
      "text/html": [
       "<div>\n",
       "<style scoped>\n",
       "    .dataframe tbody tr th:only-of-type {\n",
       "        vertical-align: middle;\n",
       "    }\n",
       "\n",
       "    .dataframe tbody tr th {\n",
       "        vertical-align: top;\n",
       "    }\n",
       "\n",
       "    .dataframe thead th {\n",
       "        text-align: right;\n",
       "    }\n",
       "</style>\n",
       "<table border=\"1\" class=\"dataframe\">\n",
       "  <thead>\n",
       "    <tr style=\"text-align: right;\">\n",
       "      <th></th>\n",
       "      <th>created</th>\n",
       "      <th>item_id</th>\n",
       "      <th>test_id</th>\n",
       "      <th>user_id</th>\n",
       "      <th>completed</th>\n",
       "      <th>correct_response</th>\n",
       "      <th>points</th>\n",
       "      <th>timed_out</th>\n",
       "      <th>groupnum</th>\n",
       "      <th>rownum</th>\n",
       "      <th>percent_correct</th>\n",
       "      <th>total_items</th>\n",
       "      <th>ordernum</th>\n",
       "      <th>duration</th>\n",
       "      <th>est_rating</th>\n",
       "      <th>bonus</th>\n",
       "      <th>ui_blur</th>\n",
       "      <th>ui_mousemove</th>\n",
       "      <th>ui_keypress</th>\n",
       "    </tr>\n",
       "    <tr>\n",
       "      <th>id</th>\n",
       "      <th></th>\n",
       "      <th></th>\n",
       "      <th></th>\n",
       "      <th></th>\n",
       "      <th></th>\n",
       "      <th></th>\n",
       "      <th></th>\n",
       "      <th></th>\n",
       "      <th></th>\n",
       "      <th></th>\n",
       "      <th></th>\n",
       "      <th></th>\n",
       "      <th></th>\n",
       "      <th></th>\n",
       "      <th></th>\n",
       "      <th></th>\n",
       "      <th></th>\n",
       "      <th></th>\n",
       "      <th></th>\n",
       "    </tr>\n",
       "  </thead>\n",
       "  <tbody>\n",
       "    <tr>\n",
       "      <th>1</th>\n",
       "      <td>2011-10-24 10:25:43</td>\n",
       "      <td>379</td>\n",
       "      <td>1</td>\n",
       "      <td>680</td>\n",
       "      <td>2011-10-24 10:25:43</td>\n",
       "      <td>1</td>\n",
       "      <td>0</td>\n",
       "      <td>0</td>\n",
       "      <td>0</td>\n",
       "      <td>0</td>\n",
       "      <td>0.0</td>\n",
       "      <td>0</td>\n",
       "      <td>0</td>\n",
       "      <td>0</td>\n",
       "      <td>NaN</td>\n",
       "      <td>0</td>\n",
       "      <td>NaN</td>\n",
       "      <td>NaN</td>\n",
       "      <td>NaN</td>\n",
       "    </tr>\n",
       "    <tr>\n",
       "      <th>2</th>\n",
       "      <td>2011-10-24 10:25:43</td>\n",
       "      <td>88</td>\n",
       "      <td>1</td>\n",
       "      <td>680</td>\n",
       "      <td>2011-10-24 10:25:43</td>\n",
       "      <td>1</td>\n",
       "      <td>0</td>\n",
       "      <td>0</td>\n",
       "      <td>0</td>\n",
       "      <td>0</td>\n",
       "      <td>0.0</td>\n",
       "      <td>0</td>\n",
       "      <td>0</td>\n",
       "      <td>0</td>\n",
       "      <td>NaN</td>\n",
       "      <td>0</td>\n",
       "      <td>NaN</td>\n",
       "      <td>NaN</td>\n",
       "      <td>NaN</td>\n",
       "    </tr>\n",
       "    <tr>\n",
       "      <th>3</th>\n",
       "      <td>2011-10-24 10:25:43</td>\n",
       "      <td>587</td>\n",
       "      <td>1</td>\n",
       "      <td>680</td>\n",
       "      <td>2011-10-24 10:25:43</td>\n",
       "      <td>1</td>\n",
       "      <td>0</td>\n",
       "      <td>0</td>\n",
       "      <td>0</td>\n",
       "      <td>0</td>\n",
       "      <td>0.0</td>\n",
       "      <td>0</td>\n",
       "      <td>0</td>\n",
       "      <td>0</td>\n",
       "      <td>NaN</td>\n",
       "      <td>0</td>\n",
       "      <td>NaN</td>\n",
       "      <td>NaN</td>\n",
       "      <td>NaN</td>\n",
       "    </tr>\n",
       "    <tr>\n",
       "      <th>4</th>\n",
       "      <td>2011-10-24 10:25:43</td>\n",
       "      <td>181</td>\n",
       "      <td>1</td>\n",
       "      <td>680</td>\n",
       "      <td>2011-10-24 10:25:43</td>\n",
       "      <td>0</td>\n",
       "      <td>0</td>\n",
       "      <td>0</td>\n",
       "      <td>0</td>\n",
       "      <td>0</td>\n",
       "      <td>0.0</td>\n",
       "      <td>0</td>\n",
       "      <td>0</td>\n",
       "      <td>0</td>\n",
       "      <td>NaN</td>\n",
       "      <td>0</td>\n",
       "      <td>NaN</td>\n",
       "      <td>NaN</td>\n",
       "      <td>NaN</td>\n",
       "    </tr>\n",
       "    <tr>\n",
       "      <th>5</th>\n",
       "      <td>2011-10-24 10:25:43</td>\n",
       "      <td>343</td>\n",
       "      <td>1</td>\n",
       "      <td>680</td>\n",
       "      <td>2011-10-24 10:25:43</td>\n",
       "      <td>1</td>\n",
       "      <td>0</td>\n",
       "      <td>0</td>\n",
       "      <td>0</td>\n",
       "      <td>0</td>\n",
       "      <td>0.0</td>\n",
       "      <td>0</td>\n",
       "      <td>0</td>\n",
       "      <td>0</td>\n",
       "      <td>NaN</td>\n",
       "      <td>0</td>\n",
       "      <td>NaN</td>\n",
       "      <td>NaN</td>\n",
       "      <td>NaN</td>\n",
       "    </tr>\n",
       "  </tbody>\n",
       "</table>\n",
       "</div>"
      ],
      "text/plain": [
       "                created  item_id  test_id  user_id            completed  \\\n",
       "id                                                                        \n",
       "1   2011-10-24 10:25:43      379        1      680  2011-10-24 10:25:43   \n",
       "2   2011-10-24 10:25:43       88        1      680  2011-10-24 10:25:43   \n",
       "3   2011-10-24 10:25:43      587        1      680  2011-10-24 10:25:43   \n",
       "4   2011-10-24 10:25:43      181        1      680  2011-10-24 10:25:43   \n",
       "5   2011-10-24 10:25:43      343        1      680  2011-10-24 10:25:43   \n",
       "\n",
       "    correct_response  points  timed_out  groupnum  rownum  percent_correct  \\\n",
       "id                                                                           \n",
       "1                  1       0          0         0       0              0.0   \n",
       "2                  1       0          0         0       0              0.0   \n",
       "3                  1       0          0         0       0              0.0   \n",
       "4                  0       0          0         0       0              0.0   \n",
       "5                  1       0          0         0       0              0.0   \n",
       "\n",
       "    total_items  ordernum  duration  est_rating  bonus  ui_blur  ui_mousemove  \\\n",
       "id                                                                              \n",
       "1             0         0         0         NaN      0      NaN           NaN   \n",
       "2             0         0         0         NaN      0      NaN           NaN   \n",
       "3             0         0         0         NaN      0      NaN           NaN   \n",
       "4             0         0         0         NaN      0      NaN           NaN   \n",
       "5             0         0         0         NaN      0      NaN           NaN   \n",
       "\n",
       "    ui_keypress  \n",
       "id               \n",
       "1           NaN  \n",
       "2           NaN  \n",
       "3           NaN  \n",
       "4           NaN  \n",
       "5           NaN  "
      ]
     },
     "execution_count": 17,
     "metadata": {},
     "output_type": "execute_result"
    }
   ],
   "source": [
    "# Show some rows from the testings_completedtestitem table\n",
    "pd.read_csv('data/testings_completedtestitem_head.txt', encoding='utf-8', sep='\\t', index_col='id').head()"
   ]
  },
  {
   "cell_type": "markdown",
   "metadata": {},
   "source": [
    "We can see there are a lot of miscellaneous columns used for various purposes within the _Which Is English?_ game, but the important stuff for us is here:\n",
    "\n",
    "- `item_id`\n",
    "- `user_id`\n",
    "- `correct_response`\n",
    "- `timed_out`\n",
    "\n",
    "These are important because we're interested in exploring users' interactions with these items.\n",
    "\n",
    "Unfortunately, we lack resolution on the exact order in which interactions happened. It's apparent that, however user interactions with items were logged, groups of them ended up with the same `created` timestamp. However, we can instead use the `id` field to infer the exact order of entries, which we'll relabel `ordinal` in our query (also, that's more convenient than parsing dates)."
   ]
  },
  {
   "cell_type": "markdown",
   "metadata": {},
   "source": [
    "### Query\n",
    "The first question we have to answer is: **What data is important to us?** Considering the objective of this project is to create a test capable of scoring a user based on their knowledge of English, we want to try to ignore noise resulting from byproducts of the WIE game experience:\n",
    "\n",
    "- Repeat players may have memorized some items over multiple encounters\n",
    "- Some players may have left their computers mid-game, resulting in meaningless timeouts\n",
    "\n",
    "In order to account for this noise, we should query for the following: _For each user, show their first interaction with each item, unless that interaction was a timeout._ Using only the first interactions will eliminate the possibility of memorization playing a role in the data. Eliminating timeouts simplifies the data by restricting it only to deliberate answers (but as is mentioned in the [Improvement section of the README](README.md#Improvement), we're leaving some valuable data on the table by doing that).\n",
    "\n",
    "The query I ended up using to extract [`first_encounters.csv`](data/first_encounters.csv) can be found at [`first_encounters.sql`](data/first_encounters.sql), and it's reproduced here:"
   ]
  },
  {
   "cell_type": "raw",
   "metadata": {},
   "source": [
    "SELECT ordinal,\n",
    "    user_id,\n",
    "    item_id,\n",
    "    correct_response\n",
    "FROM (\n",
    "        SELECT completedtestitem.id AS ordinal,\n",
    "\t\t\tcompletedtestitem.user_id,\n",
    "\t\t\tcompletedtestitem.item_id,\n",
    "            completedtestitem.correct_response,\n",
    "            completedtestitem.timed_out,\n",
    "            ROW_NUMBER() OVER (\n",
    "                PARTITION BY completedtestitem.user_id, completedtestitem.item_id\n",
    "                ORDER BY completedtestitem.id\n",
    "            ) AS RowNum\n",
    "        FROM testings_completedtestitem AS completedtestitem\n",
    "            JOIN testings_testitem AS testitem ON testitem.id = completedtestitem.item_id\n",
    "            AND testitem.active IS TRUE\n",
    "            AND testitem.language_id = 1\n",
    "    ) AS table1\n",
    "WHERE RowNum = 1\n",
    "AND timed_out IS FALSE\n",
    "ORDER BY ordinal;"
   ]
  },
  {
   "cell_type": "markdown",
   "metadata": {},
   "source": [
    "## Data visualization"
   ]
  },
  {
   "cell_type": "code",
   "execution_count": 21,
   "metadata": {},
   "outputs": [
    {
     "name": "stderr",
     "output_type": "stream",
     "text": [
      "C:\\Users\\emq\\anaconda3\\envs\\wie\\lib\\site-packages\\numpy\\lib\\arraysetops.py:569: FutureWarning: elementwise comparison failed; returning scalar instead, but in the future will perform elementwise comparison\n",
      "  mask |= (ar1 == a)\n"
     ]
    },
    {
     "data": {
      "text/html": [
       "<div>\n",
       "<style scoped>\n",
       "    .dataframe tbody tr th:only-of-type {\n",
       "        vertical-align: middle;\n",
       "    }\n",
       "\n",
       "    .dataframe tbody tr th {\n",
       "        vertical-align: top;\n",
       "    }\n",
       "\n",
       "    .dataframe thead th {\n",
       "        text-align: right;\n",
       "    }\n",
       "</style>\n",
       "<table border=\"1\" class=\"dataframe\">\n",
       "  <thead>\n",
       "    <tr style=\"text-align: right;\">\n",
       "      <th></th>\n",
       "      <th>user_id</th>\n",
       "      <th>item_id</th>\n",
       "      <th>correct_response</th>\n",
       "    </tr>\n",
       "    <tr>\n",
       "      <th>ordinal</th>\n",
       "      <th></th>\n",
       "      <th></th>\n",
       "      <th></th>\n",
       "    </tr>\n",
       "  </thead>\n",
       "  <tbody>\n",
       "    <tr>\n",
       "      <th>1</th>\n",
       "      <td>680</td>\n",
       "      <td>379</td>\n",
       "      <td>1</td>\n",
       "    </tr>\n",
       "    <tr>\n",
       "      <th>3</th>\n",
       "      <td>680</td>\n",
       "      <td>587</td>\n",
       "      <td>1</td>\n",
       "    </tr>\n",
       "    <tr>\n",
       "      <th>5</th>\n",
       "      <td>680</td>\n",
       "      <td>343</td>\n",
       "      <td>1</td>\n",
       "    </tr>\n",
       "    <tr>\n",
       "      <th>6</th>\n",
       "      <td>680</td>\n",
       "      <td>29</td>\n",
       "      <td>1</td>\n",
       "    </tr>\n",
       "    <tr>\n",
       "      <th>7</th>\n",
       "      <td>680</td>\n",
       "      <td>104</td>\n",
       "      <td>1</td>\n",
       "    </tr>\n",
       "  </tbody>\n",
       "</table>\n",
       "</div>"
      ],
      "text/plain": [
       "         user_id  item_id  correct_response\n",
       "ordinal                                    \n",
       "1            680      379                 1\n",
       "3            680      587                 1\n",
       "5            680      343                 1\n",
       "6            680       29                 1\n",
       "7            680      104                 1"
      ]
     },
     "execution_count": 21,
     "metadata": {},
     "output_type": "execute_result"
    }
   ],
   "source": [
    "# Read in first encounters data\n",
    "df_fe = pd.read_csv('data/first_encounters.csv', encoding='utf-8', index_col='ordinal')\n",
    "df_fe.head()"
   ]
  },
  {
   "cell_type": "markdown",
   "metadata": {},
   "source": [
    "First, let's look at the size of the data."
   ]
  },
  {
   "cell_type": "code",
   "execution_count": 23,
   "metadata": {},
   "outputs": [
    {
     "data": {
      "text/plain": [
       "(8352574, 3)"
      ]
     },
     "execution_count": 23,
     "metadata": {},
     "output_type": "execute_result"
    }
   ],
   "source": [
    "# How big is the data?\n",
    "df_fe.shape"
   ]
  },
  {
   "cell_type": "code",
   "execution_count": 24,
   "metadata": {},
   "outputs": [
    {
     "data": {
      "text/plain": [
       "85802"
      ]
     },
     "execution_count": 24,
     "metadata": {},
     "output_type": "execute_result"
    }
   ],
   "source": [
    "# How many users are there?\n",
    "df_fe['user_id'].nunique()"
   ]
  },
  {
   "cell_type": "code",
   "execution_count": 25,
   "metadata": {},
   "outputs": [
    {
     "data": {
      "text/plain": [
       "18081"
      ]
     },
     "execution_count": 25,
     "metadata": {},
     "output_type": "execute_result"
    }
   ],
   "source": [
    "# How many items are there?\n",
    "df_fe['item_id'].nunique()"
   ]
  },
  {
   "cell_type": "markdown",
   "metadata": {},
   "source": [
    "Run some sanity checks:"
   ]
  },
  {
   "cell_type": "code",
   "execution_count": 37,
   "metadata": {},
   "outputs": [
    {
     "data": {
      "text/plain": [
       "(8352574, 1)"
      ]
     },
     "execution_count": 37,
     "metadata": {},
     "output_type": "execute_result"
    }
   ],
   "source": [
    "# Confirm there are no duplicate user-item combos, since this should only contain first encounters\n",
    "df_fe.groupby(['user_id', 'item_id']).count().shape"
   ]
  },
  {
   "cell_type": "code",
   "execution_count": 32,
   "metadata": {},
   "outputs": [
    {
     "data": {
      "text/plain": [
       "array([1, 0], dtype=int64)"
      ]
     },
     "execution_count": 32,
     "metadata": {},
     "output_type": "execute_result"
    }
   ],
   "source": [
    "# Confirm there are only 1's and 0's in the correct_response column\n",
    "df_fe['correct_response'].unique()"
   ]
  },
  {
   "cell_type": "markdown",
   "metadata": {},
   "source": [
    "Good, it's got the same number of rows as the raw data, and the `correct_response` column is indeed binary. Now let's get an idea of what's in here."
   ]
  },
  {
   "cell_type": "markdown",
   "metadata": {},
   "source": [
    "### Users"
   ]
  },
  {
   "cell_type": "code",
   "execution_count": 45,
   "metadata": {},
   "outputs": [
    {
     "data": {
      "text/plain": [
       "count    85802.000000\n",
       "mean        97.347078\n",
       "std        522.900077\n",
       "min          1.000000\n",
       "25%         14.000000\n",
       "50%         24.000000\n",
       "75%         54.000000\n",
       "max      17944.000000\n",
       "Name: item_id, dtype: float64"
      ]
     },
     "execution_count": 45,
     "metadata": {},
     "output_type": "execute_result"
    }
   ],
   "source": [
    "# How many first encounters have our users had?\n",
    "user_encounter_counts = df_fe.groupby('user_id')['item_id'].count()\n",
    "user_encounter_counts.describe()"
   ]
  },
  {
   "cell_type": "code",
   "execution_count": 58,
   "metadata": {},
   "outputs": [
    {
     "data": {
      "text/plain": [
       "<matplotlib.axes._subplots.AxesSubplot at 0x23911eca908>"
      ]
     },
     "execution_count": 58,
     "metadata": {},
     "output_type": "execute_result"
    },
    {
     "data": {
      "image/png": "[encoded data removed]",
      "text/plain": [
       "<Figure size 432x288 with 1 Axes>"
      ]
     },
     "metadata": {
      "needs_background": "light"
     },
     "output_type": "display_data"
    }
   ],
   "source": [
    "# Visualize up to the 75th percentile\n",
    "user_encounter_counts[user_encounter_counts <= user_encounter_counts.quantile(0.75)].hist()"
   ]
  },
  {
   "cell_type": "code",
   "execution_count": 56,
   "metadata": {},
   "outputs": [
    {
     "data": {
      "text/plain": [
       "<matplotlib.axes._subplots.AxesSubplot at 0x23901a06948>"
      ]
     },
     "execution_count": 56,
     "metadata": {},
     "output_type": "execute_result"
    },
    {
     "data": {
      "image/png": "[encoded data removed]",
      "text/plain": [
       "<Figure size 432x288 with 1 Axes>"
      ]
     },
     "metadata": {
      "needs_background": "light"
     },
     "output_type": "display_data"
    }
   ],
   "source": [
    "# What's the average percent correct for each user?\n",
    "user_pct_correct = df_fe.groupby('user_id')['correct_response'].mean()\n",
    "user_pct_correct.hist()"
   ]
  },
  {
   "cell_type": "markdown",
   "metadata": {},
   "source": [
    "It looks like we have a few addicted users who've played thousands of games (some of which may be Transparent Language QA testers), but most users have encountered fewer than 50 items. It also looks like the majority of our user population gets a lot of questions right. What's the relationship between these two properties?"
   ]
  },
  {
   "cell_type": "code",
   "execution_count": 53,
   "metadata": {},
   "outputs": [
    {
     "data": {
      "text/plain": [
       "<matplotlib.collections.PathCollection at 0x23901d3a0c8>"
      ]
     },
     "execution_count": 53,
     "metadata": {},
     "output_type": "execute_result"
    },
    {
     "data": {
      "image/png": "[encoded data removed]",
      "text/plain": [
       "<Figure size 432x288 with 1 Axes>"
      ]
     },
     "metadata": {
      "needs_background": "light"
     },
     "output_type": "display_data"
    }
   ],
   "source": [
    "# Plot percent correct answers on X and number of first encounters on Y\n",
    "plt.scatter(pct_correct, user_encounter_counts)"
   ]
  },
  {
   "cell_type": "markdown",
   "metadata": {},
   "source": [
    "It looks like users who get more correct answers also have encountered more items. This makes sense. _Which Is English?_ is a game, so it makes sense that users who have some English skill would find it more enjoyable and play it more often; too much failure or too much cognitive burden can be unpleasant.\n",
    "\n",
    "We'll have to keep this skew in mind as we proceed."
   ]
  },
  {
   "cell_type": "markdown",
   "metadata": {},
   "source": [
    "### Items"
   ]
  },
  {
   "cell_type": "code",
   "execution_count": 54,
   "metadata": {},
   "outputs": [
    {
     "data": {
      "text/plain": [
       "count    18081.000000\n",
       "mean       461.953100\n",
       "std        272.779626\n",
       "min          1.000000\n",
       "25%        273.000000\n",
       "50%        368.000000\n",
       "75%        651.000000\n",
       "max       1727.000000\n",
       "Name: user_id, dtype: float64"
      ]
     },
     "execution_count": 54,
     "metadata": {},
     "output_type": "execute_result"
    }
   ],
   "source": [
    "# How many first encounters have our items had?\n",
    "item_encounter_counts = df_fe.groupby('item_id')['user_id'].count()\n",
    "item_encounter_counts.describe()"
   ]
  },
  {
   "cell_type": "code",
   "execution_count": 55,
   "metadata": {},
   "outputs": [
    {
     "data": {
      "text/plain": [
       "<matplotlib.axes._subplots.AxesSubplot at 0x23900e2eb48>"
      ]
     },
     "execution_count": 55,
     "metadata": {},
     "output_type": "execute_result"
    },
    {
     "data": {
      "image/png": "[encoded data removed]",
      "text/plain": [
       "<Figure size 432x288 with 1 Axes>"
      ]
     },
     "metadata": {
      "needs_background": "light"
     },
     "output_type": "display_data"
    }
   ],
   "source": [
    "item_encounter_counts.hist()"
   ]
  },
  {
   "cell_type": "code",
   "execution_count": 60,
   "metadata": {},
   "outputs": [
    {
     "data": {
      "text/plain": [
       "count    18081.000000\n",
       "mean         0.864093\n",
       "std          0.092190\n",
       "min          0.000000\n",
       "25%          0.807087\n",
       "50%          0.882038\n",
       "75%          0.940030\n",
       "max          1.000000\n",
       "Name: correct_response, dtype: float64"
      ]
     },
     "execution_count": 60,
     "metadata": {},
     "output_type": "execute_result"
    }
   ],
   "source": [
    "# What's the average percent correct for each item?\n",
    "item_pct_correct = df_fe.groupby('item_id')['correct_response'].mean()\n",
    "item_pct_correct.describe()"
   ]
  },
  {
   "cell_type": "code",
   "execution_count": 61,
   "metadata": {},
   "outputs": [
    {
     "data": {
      "text/plain": [
       "<matplotlib.axes._subplots.AxesSubplot at 0x23911fd44c8>"
      ]
     },
     "execution_count": 61,
     "metadata": {},
     "output_type": "execute_result"
    },
    {
     "data": {
      "image/png": "[encoded data removed]",
      "text/plain": [
       "<Figure size 432x288 with 1 Axes>"
      ]
     },
     "metadata": {
      "needs_background": "light"
     },
     "output_type": "display_data"
    }
   ],
   "source": [
    "item_pct_correct.hist()"
   ]
  },
  {
   "cell_type": "markdown",
   "metadata": {},
   "source": [
    "It looks like most items have fewer than 1000 first encounters. Also, if we consider the percent of correct answers to be an indication of how easy (or difficult) an item is, it looks like we have a much larger population of easy items than difficult items. But what's the relationship between encounter frequency and difficulty?"
   ]
  },
  {
   "cell_type": "code",
   "execution_count": 59,
   "metadata": {},
   "outputs": [
    {
     "data": {
      "text/plain": [
       "<matplotlib.collections.PathCollection at 0x23911f98808>"
      ]
     },
     "execution_count": 59,
     "metadata": {},
     "output_type": "execute_result"
    },
    {
     "data": {
      "image/png": "[encoded data removed]",
      "text/plain": [
       "<Figure size 432x288 with 1 Axes>"
      ]
     },
     "metadata": {
      "needs_background": "light"
     },
     "output_type": "display_data"
    }
   ],
   "source": [
    "# Plot percent correct answers on X and number of first encounters on Y\n",
    "plt.scatter(item_pct_correct, item_encounter_counts)"
   ]
  },
  {
   "cell_type": "markdown",
   "metadata": {},
   "source": [
    "Something very important manifests itself in this data: notice that there are hardly any items that users get right less than 50% of the time. **This is due to the phenomenon of guessing.** For a multiple choice question, if the tester doesn't know the answer, they will guess and be correct $1 / n$ of the time, where $n$ is the number of options. In our case, $n = 2$, so $1 / 2 = 0.5$. _Only by outlying chance, helped by having a fewer number of first encounters, will an item be gotten correct less than 50% of the time._ This will be very important as we proceed to make the test.\n",
    "\n",
    "That aside, it looks like encounters are healthily distributed among items of all difficulty levels."
   ]
  }
 ],
 "metadata": {
  "kernelspec": {
   "display_name": "wie",
   "language": "python",
   "name": "wie"
  },
  "language_info": {
   "codemirror_mode": {
    "name": "ipython",
    "version": 3
   },
   "file_extension": ".py",
   "mimetype": "text/x-python",
   "name": "python",
   "nbconvert_exporter": "python",
   "pygments_lexer": "ipython3",
   "version": "3.7.7"
  }
 },
 "nbformat": 4,
 "nbformat_minor": 4
}
